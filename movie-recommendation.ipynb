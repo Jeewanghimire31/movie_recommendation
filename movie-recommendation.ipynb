{
 "cells": [
  {
   "cell_type": "code",
   "execution_count": 1,
   "id": "e06e6ef4",
   "metadata": {
    "_cell_guid": "b1076dfc-b9ad-4769-8c92-a6c4dae69d19",
    "_uuid": "8f2839f25d086af736a60e9eeb907d3b93b6e0e5",
    "execution": {
     "iopub.execute_input": "2023-06-19T10:12:25.795051Z",
     "iopub.status.busy": "2023-06-19T10:12:25.794322Z",
     "iopub.status.idle": "2023-06-19T10:12:25.816351Z",
     "shell.execute_reply": "2023-06-19T10:12:25.814600Z"
    },
    "papermill": {
     "duration": 0.032757,
     "end_time": "2023-06-19T10:12:25.818996",
     "exception": false,
     "start_time": "2023-06-19T10:12:25.786239",
     "status": "completed"
    },
    "tags": []
   },
   "outputs": [
    {
     "name": "stdout",
     "output_type": "stream",
     "text": [
      "/kaggle/input/tmdb-movie-metadata/tmdb_5000_movies.csv\n",
      "/kaggle/input/tmdb-movie-metadata/tmdb_5000_credits.csv\n"
     ]
    }
   ],
   "source": [
    "# This Python 3 environment comes with many helpful analytics libraries installed\n",
    "# It is defined by the kaggle/python Docker image: https://github.com/kaggle/docker-python\n",
    "# For example, here's several helpful packages to load\n",
    "\n",
    "import numpy as np # linear algebra\n",
    "import pandas as pd # data processing, CSV file I/O (e.g. pd.read_csv)\n",
    "\n",
    "# Input data files are available in the read-only \"../input/\" directory\n",
    "# For example, running this (by clicking run or pressing Shift+Enter) will list all files under the input directory\n",
    "\n",
    "import os\n",
    "for dirname, _, filenames in os.walk('/kaggle/input'):\n",
    "    for filename in filenames:\n",
    "        print(os.path.join(dirname, filename))\n",
    "\n",
    "# You can write up to 20GB to the current directory (/kaggle/working/) that gets preserved as output when you create a version using \"Save & Run All\" \n",
    "# You can also write temporary files to /kaggle/temp/, but they won't be saved outside of the current session"
   ]
  },
  {
   "cell_type": "code",
   "execution_count": 2,
   "id": "fbe88b9d",
   "metadata": {
    "execution": {
     "iopub.execute_input": "2023-06-19T10:12:25.833160Z",
     "iopub.status.busy": "2023-06-19T10:12:25.832341Z",
     "iopub.status.idle": "2023-06-19T10:12:25.837393Z",
     "shell.execute_reply": "2023-06-19T10:12:25.836231Z"
    },
    "papermill": {
     "duration": 0.014787,
     "end_time": "2023-06-19T10:12:25.839949",
     "exception": false,
     "start_time": "2023-06-19T10:12:25.825162",
     "status": "completed"
    },
    "tags": []
   },
   "outputs": [],
   "source": [
    "import pandas as pd\n",
    "import numpy as np\n"
   ]
  },
  {
   "cell_type": "code",
   "execution_count": 3,
   "id": "93e4f133",
   "metadata": {
    "execution": {
     "iopub.execute_input": "2023-06-19T10:12:25.854105Z",
     "iopub.status.busy": "2023-06-19T10:12:25.853503Z",
     "iopub.status.idle": "2023-06-19T10:12:26.974172Z",
     "shell.execute_reply": "2023-06-19T10:12:26.972599Z"
    },
    "papermill": {
     "duration": 1.132051,
     "end_time": "2023-06-19T10:12:26.978215",
     "exception": false,
     "start_time": "2023-06-19T10:12:25.846164",
     "status": "completed"
    },
    "tags": []
   },
   "outputs": [],
   "source": [
    "df_movies = pd.read_csv(\"/kaggle/input/tmdb-movie-metadata/tmdb_5000_movies.csv\")\n",
    "df_credits = pd.read_csv(\"/kaggle/input/tmdb-movie-metadata/tmdb_5000_credits.csv\")\n"
   ]
  },
  {
   "cell_type": "code",
   "execution_count": 4,
   "id": "c50ad286",
   "metadata": {
    "execution": {
     "iopub.execute_input": "2023-06-19T10:12:26.992980Z",
     "iopub.status.busy": "2023-06-19T10:12:26.992569Z",
     "iopub.status.idle": "2023-06-19T10:12:27.037458Z",
     "shell.execute_reply": "2023-06-19T10:12:27.036362Z"
    },
    "papermill": {
     "duration": 0.055764,
     "end_time": "2023-06-19T10:12:27.041178",
     "exception": false,
     "start_time": "2023-06-19T10:12:26.985414",
     "status": "completed"
    },
    "tags": []
   },
   "outputs": [
    {
     "data": {
      "text/html": [
       "<div>\n",
       "<style scoped>\n",
       "    .dataframe tbody tr th:only-of-type {\n",
       "        vertical-align: middle;\n",
       "    }\n",
       "\n",
       "    .dataframe tbody tr th {\n",
       "        vertical-align: top;\n",
       "    }\n",
       "\n",
       "    .dataframe thead th {\n",
       "        text-align: right;\n",
       "    }\n",
       "</style>\n",
       "<table border=\"1\" class=\"dataframe\">\n",
       "  <thead>\n",
       "    <tr style=\"text-align: right;\">\n",
       "      <th></th>\n",
       "      <th>budget</th>\n",
       "      <th>genres</th>\n",
       "      <th>homepage</th>\n",
       "      <th>id</th>\n",
       "      <th>keywords</th>\n",
       "      <th>original_language</th>\n",
       "      <th>original_title</th>\n",
       "      <th>overview</th>\n",
       "      <th>popularity</th>\n",
       "      <th>production_companies</th>\n",
       "      <th>production_countries</th>\n",
       "      <th>release_date</th>\n",
       "      <th>revenue</th>\n",
       "      <th>runtime</th>\n",
       "      <th>spoken_languages</th>\n",
       "      <th>status</th>\n",
       "      <th>tagline</th>\n",
       "      <th>title</th>\n",
       "      <th>vote_average</th>\n",
       "      <th>vote_count</th>\n",
       "    </tr>\n",
       "  </thead>\n",
       "  <tbody>\n",
       "    <tr>\n",
       "      <th>0</th>\n",
       "      <td>237000000</td>\n",
       "      <td>[{\"id\": 28, \"name\": \"Action\"}, {\"id\": 12, \"nam...</td>\n",
       "      <td>http://www.avatarmovie.com/</td>\n",
       "      <td>19995</td>\n",
       "      <td>[{\"id\": 1463, \"name\": \"culture clash\"}, {\"id\":...</td>\n",
       "      <td>en</td>\n",
       "      <td>Avatar</td>\n",
       "      <td>In the 22nd century, a paraplegic Marine is di...</td>\n",
       "      <td>150.437577</td>\n",
       "      <td>[{\"name\": \"Ingenious Film Partners\", \"id\": 289...</td>\n",
       "      <td>[{\"iso_3166_1\": \"US\", \"name\": \"United States o...</td>\n",
       "      <td>2009-12-10</td>\n",
       "      <td>2787965087</td>\n",
       "      <td>162.0</td>\n",
       "      <td>[{\"iso_639_1\": \"en\", \"name\": \"English\"}, {\"iso...</td>\n",
       "      <td>Released</td>\n",
       "      <td>Enter the World of Pandora.</td>\n",
       "      <td>Avatar</td>\n",
       "      <td>7.2</td>\n",
       "      <td>11800</td>\n",
       "    </tr>\n",
       "    <tr>\n",
       "      <th>1</th>\n",
       "      <td>300000000</td>\n",
       "      <td>[{\"id\": 12, \"name\": \"Adventure\"}, {\"id\": 14, \"...</td>\n",
       "      <td>http://disney.go.com/disneypictures/pirates/</td>\n",
       "      <td>285</td>\n",
       "      <td>[{\"id\": 270, \"name\": \"ocean\"}, {\"id\": 726, \"na...</td>\n",
       "      <td>en</td>\n",
       "      <td>Pirates of the Caribbean: At World's End</td>\n",
       "      <td>Captain Barbossa, long believed to be dead, ha...</td>\n",
       "      <td>139.082615</td>\n",
       "      <td>[{\"name\": \"Walt Disney Pictures\", \"id\": 2}, {\"...</td>\n",
       "      <td>[{\"iso_3166_1\": \"US\", \"name\": \"United States o...</td>\n",
       "      <td>2007-05-19</td>\n",
       "      <td>961000000</td>\n",
       "      <td>169.0</td>\n",
       "      <td>[{\"iso_639_1\": \"en\", \"name\": \"English\"}]</td>\n",
       "      <td>Released</td>\n",
       "      <td>At the end of the world, the adventure begins.</td>\n",
       "      <td>Pirates of the Caribbean: At World's End</td>\n",
       "      <td>6.9</td>\n",
       "      <td>4500</td>\n",
       "    </tr>\n",
       "    <tr>\n",
       "      <th>2</th>\n",
       "      <td>245000000</td>\n",
       "      <td>[{\"id\": 28, \"name\": \"Action\"}, {\"id\": 12, \"nam...</td>\n",
       "      <td>http://www.sonypictures.com/movies/spectre/</td>\n",
       "      <td>206647</td>\n",
       "      <td>[{\"id\": 470, \"name\": \"spy\"}, {\"id\": 818, \"name...</td>\n",
       "      <td>en</td>\n",
       "      <td>Spectre</td>\n",
       "      <td>A cryptic message from Bond’s past sends him o...</td>\n",
       "      <td>107.376788</td>\n",
       "      <td>[{\"name\": \"Columbia Pictures\", \"id\": 5}, {\"nam...</td>\n",
       "      <td>[{\"iso_3166_1\": \"GB\", \"name\": \"United Kingdom\"...</td>\n",
       "      <td>2015-10-26</td>\n",
       "      <td>880674609</td>\n",
       "      <td>148.0</td>\n",
       "      <td>[{\"iso_639_1\": \"fr\", \"name\": \"Fran\\u00e7ais\"},...</td>\n",
       "      <td>Released</td>\n",
       "      <td>A Plan No One Escapes</td>\n",
       "      <td>Spectre</td>\n",
       "      <td>6.3</td>\n",
       "      <td>4466</td>\n",
       "    </tr>\n",
       "    <tr>\n",
       "      <th>3</th>\n",
       "      <td>250000000</td>\n",
       "      <td>[{\"id\": 28, \"name\": \"Action\"}, {\"id\": 80, \"nam...</td>\n",
       "      <td>http://www.thedarkknightrises.com/</td>\n",
       "      <td>49026</td>\n",
       "      <td>[{\"id\": 849, \"name\": \"dc comics\"}, {\"id\": 853,...</td>\n",
       "      <td>en</td>\n",
       "      <td>The Dark Knight Rises</td>\n",
       "      <td>Following the death of District Attorney Harve...</td>\n",
       "      <td>112.312950</td>\n",
       "      <td>[{\"name\": \"Legendary Pictures\", \"id\": 923}, {\"...</td>\n",
       "      <td>[{\"iso_3166_1\": \"US\", \"name\": \"United States o...</td>\n",
       "      <td>2012-07-16</td>\n",
       "      <td>1084939099</td>\n",
       "      <td>165.0</td>\n",
       "      <td>[{\"iso_639_1\": \"en\", \"name\": \"English\"}]</td>\n",
       "      <td>Released</td>\n",
       "      <td>The Legend Ends</td>\n",
       "      <td>The Dark Knight Rises</td>\n",
       "      <td>7.6</td>\n",
       "      <td>9106</td>\n",
       "    </tr>\n",
       "    <tr>\n",
       "      <th>4</th>\n",
       "      <td>260000000</td>\n",
       "      <td>[{\"id\": 28, \"name\": \"Action\"}, {\"id\": 12, \"nam...</td>\n",
       "      <td>http://movies.disney.com/john-carter</td>\n",
       "      <td>49529</td>\n",
       "      <td>[{\"id\": 818, \"name\": \"based on novel\"}, {\"id\":...</td>\n",
       "      <td>en</td>\n",
       "      <td>John Carter</td>\n",
       "      <td>John Carter is a war-weary, former military ca...</td>\n",
       "      <td>43.926995</td>\n",
       "      <td>[{\"name\": \"Walt Disney Pictures\", \"id\": 2}]</td>\n",
       "      <td>[{\"iso_3166_1\": \"US\", \"name\": \"United States o...</td>\n",
       "      <td>2012-03-07</td>\n",
       "      <td>284139100</td>\n",
       "      <td>132.0</td>\n",
       "      <td>[{\"iso_639_1\": \"en\", \"name\": \"English\"}]</td>\n",
       "      <td>Released</td>\n",
       "      <td>Lost in our world, found in another.</td>\n",
       "      <td>John Carter</td>\n",
       "      <td>6.1</td>\n",
       "      <td>2124</td>\n",
       "    </tr>\n",
       "  </tbody>\n",
       "</table>\n",
       "</div>"
      ],
      "text/plain": [
       "      budget                                             genres  \\\n",
       "0  237000000  [{\"id\": 28, \"name\": \"Action\"}, {\"id\": 12, \"nam...   \n",
       "1  300000000  [{\"id\": 12, \"name\": \"Adventure\"}, {\"id\": 14, \"...   \n",
       "2  245000000  [{\"id\": 28, \"name\": \"Action\"}, {\"id\": 12, \"nam...   \n",
       "3  250000000  [{\"id\": 28, \"name\": \"Action\"}, {\"id\": 80, \"nam...   \n",
       "4  260000000  [{\"id\": 28, \"name\": \"Action\"}, {\"id\": 12, \"nam...   \n",
       "\n",
       "                                       homepage      id  \\\n",
       "0                   http://www.avatarmovie.com/   19995   \n",
       "1  http://disney.go.com/disneypictures/pirates/     285   \n",
       "2   http://www.sonypictures.com/movies/spectre/  206647   \n",
       "3            http://www.thedarkknightrises.com/   49026   \n",
       "4          http://movies.disney.com/john-carter   49529   \n",
       "\n",
       "                                            keywords original_language  \\\n",
       "0  [{\"id\": 1463, \"name\": \"culture clash\"}, {\"id\":...                en   \n",
       "1  [{\"id\": 270, \"name\": \"ocean\"}, {\"id\": 726, \"na...                en   \n",
       "2  [{\"id\": 470, \"name\": \"spy\"}, {\"id\": 818, \"name...                en   \n",
       "3  [{\"id\": 849, \"name\": \"dc comics\"}, {\"id\": 853,...                en   \n",
       "4  [{\"id\": 818, \"name\": \"based on novel\"}, {\"id\":...                en   \n",
       "\n",
       "                             original_title  \\\n",
       "0                                    Avatar   \n",
       "1  Pirates of the Caribbean: At World's End   \n",
       "2                                   Spectre   \n",
       "3                     The Dark Knight Rises   \n",
       "4                               John Carter   \n",
       "\n",
       "                                            overview  popularity  \\\n",
       "0  In the 22nd century, a paraplegic Marine is di...  150.437577   \n",
       "1  Captain Barbossa, long believed to be dead, ha...  139.082615   \n",
       "2  A cryptic message from Bond’s past sends him o...  107.376788   \n",
       "3  Following the death of District Attorney Harve...  112.312950   \n",
       "4  John Carter is a war-weary, former military ca...   43.926995   \n",
       "\n",
       "                                production_companies  \\\n",
       "0  [{\"name\": \"Ingenious Film Partners\", \"id\": 289...   \n",
       "1  [{\"name\": \"Walt Disney Pictures\", \"id\": 2}, {\"...   \n",
       "2  [{\"name\": \"Columbia Pictures\", \"id\": 5}, {\"nam...   \n",
       "3  [{\"name\": \"Legendary Pictures\", \"id\": 923}, {\"...   \n",
       "4        [{\"name\": \"Walt Disney Pictures\", \"id\": 2}]   \n",
       "\n",
       "                                production_countries release_date     revenue  \\\n",
       "0  [{\"iso_3166_1\": \"US\", \"name\": \"United States o...   2009-12-10  2787965087   \n",
       "1  [{\"iso_3166_1\": \"US\", \"name\": \"United States o...   2007-05-19   961000000   \n",
       "2  [{\"iso_3166_1\": \"GB\", \"name\": \"United Kingdom\"...   2015-10-26   880674609   \n",
       "3  [{\"iso_3166_1\": \"US\", \"name\": \"United States o...   2012-07-16  1084939099   \n",
       "4  [{\"iso_3166_1\": \"US\", \"name\": \"United States o...   2012-03-07   284139100   \n",
       "\n",
       "   runtime                                   spoken_languages    status  \\\n",
       "0    162.0  [{\"iso_639_1\": \"en\", \"name\": \"English\"}, {\"iso...  Released   \n",
       "1    169.0           [{\"iso_639_1\": \"en\", \"name\": \"English\"}]  Released   \n",
       "2    148.0  [{\"iso_639_1\": \"fr\", \"name\": \"Fran\\u00e7ais\"},...  Released   \n",
       "3    165.0           [{\"iso_639_1\": \"en\", \"name\": \"English\"}]  Released   \n",
       "4    132.0           [{\"iso_639_1\": \"en\", \"name\": \"English\"}]  Released   \n",
       "\n",
       "                                          tagline  \\\n",
       "0                     Enter the World of Pandora.   \n",
       "1  At the end of the world, the adventure begins.   \n",
       "2                           A Plan No One Escapes   \n",
       "3                                 The Legend Ends   \n",
       "4            Lost in our world, found in another.   \n",
       "\n",
       "                                      title  vote_average  vote_count  \n",
       "0                                    Avatar           7.2       11800  \n",
       "1  Pirates of the Caribbean: At World's End           6.9        4500  \n",
       "2                                   Spectre           6.3        4466  \n",
       "3                     The Dark Knight Rises           7.6        9106  \n",
       "4                               John Carter           6.1        2124  "
      ]
     },
     "execution_count": 4,
     "metadata": {},
     "output_type": "execute_result"
    }
   ],
   "source": [
    "df_movies.head()"
   ]
  },
  {
   "cell_type": "code",
   "execution_count": 5,
   "id": "92968612",
   "metadata": {
    "execution": {
     "iopub.execute_input": "2023-06-19T10:12:27.055942Z",
     "iopub.status.busy": "2023-06-19T10:12:27.055478Z",
     "iopub.status.idle": "2023-06-19T10:12:27.068180Z",
     "shell.execute_reply": "2023-06-19T10:12:27.066894Z"
    },
    "papermill": {
     "duration": 0.02317,
     "end_time": "2023-06-19T10:12:27.070958",
     "exception": false,
     "start_time": "2023-06-19T10:12:27.047788",
     "status": "completed"
    },
    "tags": []
   },
   "outputs": [
    {
     "data": {
      "text/html": [
       "<div>\n",
       "<style scoped>\n",
       "    .dataframe tbody tr th:only-of-type {\n",
       "        vertical-align: middle;\n",
       "    }\n",
       "\n",
       "    .dataframe tbody tr th {\n",
       "        vertical-align: top;\n",
       "    }\n",
       "\n",
       "    .dataframe thead th {\n",
       "        text-align: right;\n",
       "    }\n",
       "</style>\n",
       "<table border=\"1\" class=\"dataframe\">\n",
       "  <thead>\n",
       "    <tr style=\"text-align: right;\">\n",
       "      <th></th>\n",
       "      <th>movie_id</th>\n",
       "      <th>title</th>\n",
       "      <th>cast</th>\n",
       "      <th>crew</th>\n",
       "    </tr>\n",
       "  </thead>\n",
       "  <tbody>\n",
       "    <tr>\n",
       "      <th>0</th>\n",
       "      <td>19995</td>\n",
       "      <td>Avatar</td>\n",
       "      <td>[{\"cast_id\": 242, \"character\": \"Jake Sully\", \"...</td>\n",
       "      <td>[{\"credit_id\": \"52fe48009251416c750aca23\", \"de...</td>\n",
       "    </tr>\n",
       "    <tr>\n",
       "      <th>1</th>\n",
       "      <td>285</td>\n",
       "      <td>Pirates of the Caribbean: At World's End</td>\n",
       "      <td>[{\"cast_id\": 4, \"character\": \"Captain Jack Spa...</td>\n",
       "      <td>[{\"credit_id\": \"52fe4232c3a36847f800b579\", \"de...</td>\n",
       "    </tr>\n",
       "    <tr>\n",
       "      <th>2</th>\n",
       "      <td>206647</td>\n",
       "      <td>Spectre</td>\n",
       "      <td>[{\"cast_id\": 1, \"character\": \"James Bond\", \"cr...</td>\n",
       "      <td>[{\"credit_id\": \"54805967c3a36829b5002c41\", \"de...</td>\n",
       "    </tr>\n",
       "    <tr>\n",
       "      <th>3</th>\n",
       "      <td>49026</td>\n",
       "      <td>The Dark Knight Rises</td>\n",
       "      <td>[{\"cast_id\": 2, \"character\": \"Bruce Wayne / Ba...</td>\n",
       "      <td>[{\"credit_id\": \"52fe4781c3a36847f81398c3\", \"de...</td>\n",
       "    </tr>\n",
       "    <tr>\n",
       "      <th>4</th>\n",
       "      <td>49529</td>\n",
       "      <td>John Carter</td>\n",
       "      <td>[{\"cast_id\": 5, \"character\": \"John Carter\", \"c...</td>\n",
       "      <td>[{\"credit_id\": \"52fe479ac3a36847f813eaa3\", \"de...</td>\n",
       "    </tr>\n",
       "  </tbody>\n",
       "</table>\n",
       "</div>"
      ],
      "text/plain": [
       "   movie_id                                     title  \\\n",
       "0     19995                                    Avatar   \n",
       "1       285  Pirates of the Caribbean: At World's End   \n",
       "2    206647                                   Spectre   \n",
       "3     49026                     The Dark Knight Rises   \n",
       "4     49529                               John Carter   \n",
       "\n",
       "                                                cast  \\\n",
       "0  [{\"cast_id\": 242, \"character\": \"Jake Sully\", \"...   \n",
       "1  [{\"cast_id\": 4, \"character\": \"Captain Jack Spa...   \n",
       "2  [{\"cast_id\": 1, \"character\": \"James Bond\", \"cr...   \n",
       "3  [{\"cast_id\": 2, \"character\": \"Bruce Wayne / Ba...   \n",
       "4  [{\"cast_id\": 5, \"character\": \"John Carter\", \"c...   \n",
       "\n",
       "                                                crew  \n",
       "0  [{\"credit_id\": \"52fe48009251416c750aca23\", \"de...  \n",
       "1  [{\"credit_id\": \"52fe4232c3a36847f800b579\", \"de...  \n",
       "2  [{\"credit_id\": \"54805967c3a36829b5002c41\", \"de...  \n",
       "3  [{\"credit_id\": \"52fe4781c3a36847f81398c3\", \"de...  \n",
       "4  [{\"credit_id\": \"52fe479ac3a36847f813eaa3\", \"de...  "
      ]
     },
     "execution_count": 5,
     "metadata": {},
     "output_type": "execute_result"
    }
   ],
   "source": [
    "df_credits.head()"
   ]
  },
  {
   "cell_type": "code",
   "execution_count": 6,
   "id": "8e215b7f",
   "metadata": {
    "execution": {
     "iopub.execute_input": "2023-06-19T10:12:27.086595Z",
     "iopub.status.busy": "2023-06-19T10:12:27.086193Z",
     "iopub.status.idle": "2023-06-19T10:12:27.095342Z",
     "shell.execute_reply": "2023-06-19T10:12:27.094344Z"
    },
    "papermill": {
     "duration": 0.019953,
     "end_time": "2023-06-19T10:12:27.097757",
     "exception": false,
     "start_time": "2023-06-19T10:12:27.077804",
     "status": "completed"
    },
    "tags": []
   },
   "outputs": [
    {
     "data": {
      "text/plain": [
       "0       In the 22nd century, a paraplegic Marine is di...\n",
       "1       Captain Barbossa, long believed to be dead, ha...\n",
       "2       A cryptic message from Bond’s past sends him o...\n",
       "3       Following the death of District Attorney Harve...\n",
       "4       John Carter is a war-weary, former military ca...\n",
       "                              ...                        \n",
       "4798    El Mariachi just wants to play his guitar and ...\n",
       "4799    A newlywed couple's honeymoon is upended by th...\n",
       "4800    \"Signed, Sealed, Delivered\" introduces a dedic...\n",
       "4801    When ambitious New York attorney Sam is sent t...\n",
       "4802    Ever since the second grade when he first saw ...\n",
       "Name: overview, Length: 4803, dtype: object"
      ]
     },
     "execution_count": 6,
     "metadata": {},
     "output_type": "execute_result"
    }
   ],
   "source": [
    "df_movies['overview']"
   ]
  },
  {
   "cell_type": "code",
   "execution_count": 7,
   "id": "473bf7c3",
   "metadata": {
    "execution": {
     "iopub.execute_input": "2023-06-19T10:12:27.115058Z",
     "iopub.status.busy": "2023-06-19T10:12:27.114617Z",
     "iopub.status.idle": "2023-06-19T10:12:28.735331Z",
     "shell.execute_reply": "2023-06-19T10:12:28.733769Z"
    },
    "papermill": {
     "duration": 1.632368,
     "end_time": "2023-06-19T10:12:28.738687",
     "exception": false,
     "start_time": "2023-06-19T10:12:27.106319",
     "status": "completed"
    },
    "tags": []
   },
   "outputs": [],
   "source": [
    "from sklearn.feature_extraction.text import TfidfVectorizer\n",
    "from sklearn.metrics.pairwise import linear_kernel"
   ]
  },
  {
   "cell_type": "code",
   "execution_count": 8,
   "id": "f0719d10",
   "metadata": {
    "execution": {
     "iopub.execute_input": "2023-06-19T10:12:28.755266Z",
     "iopub.status.busy": "2023-06-19T10:12:28.754871Z",
     "iopub.status.idle": "2023-06-19T10:12:29.175229Z",
     "shell.execute_reply": "2023-06-19T10:12:29.174118Z"
    },
    "papermill": {
     "duration": 0.432344,
     "end_time": "2023-06-19T10:12:29.178370",
     "exception": false,
     "start_time": "2023-06-19T10:12:28.746026",
     "status": "completed"
    },
    "tags": []
   },
   "outputs": [],
   "source": [
    "# this is saying that the overview is of english and we donot want to consider the stop_words(like in, is , an the etc...)\n",
    "tfidf = TfidfVectorizer(stop_words=\"english\")\n",
    "df_movies['overview'] = df_movies['overview'].fillna(\"\")\n",
    "vector_matrix = tfidf.fit_transform(df_movies['overview'])"
   ]
  },
  {
   "cell_type": "code",
   "execution_count": 9,
   "id": "d19276ae",
   "metadata": {
    "execution": {
     "iopub.execute_input": "2023-06-19T10:12:29.194245Z",
     "iopub.status.busy": "2023-06-19T10:12:29.193869Z",
     "iopub.status.idle": "2023-06-19T10:12:29.664497Z",
     "shell.execute_reply": "2023-06-19T10:12:29.663377Z"
    },
    "papermill": {
     "duration": 0.481952,
     "end_time": "2023-06-19T10:12:29.667371",
     "exception": false,
     "start_time": "2023-06-19T10:12:29.185419",
     "status": "completed"
    },
    "tags": []
   },
   "outputs": [],
   "source": [
    "cosine_sim = linear_kernel(vector_matrix, vector_matrix)"
   ]
  },
  {
   "cell_type": "code",
   "execution_count": 10,
   "id": "e293b787",
   "metadata": {
    "execution": {
     "iopub.execute_input": "2023-06-19T10:12:29.683285Z",
     "iopub.status.busy": "2023-06-19T10:12:29.682884Z",
     "iopub.status.idle": "2023-06-19T10:12:29.691492Z",
     "shell.execute_reply": "2023-06-19T10:12:29.689790Z"
    },
    "papermill": {
     "duration": 0.020216,
     "end_time": "2023-06-19T10:12:29.694697",
     "exception": false,
     "start_time": "2023-06-19T10:12:29.674481",
     "status": "completed"
    },
    "tags": []
   },
   "outputs": [
    {
     "data": {
      "text/plain": [
       "0                                      Avatar\n",
       "1    Pirates of the Caribbean: At World's End\n",
       "2                                     Spectre\n",
       "3                       The Dark Knight Rises\n",
       "4                                 John Carter\n",
       "Name: original_title, dtype: object"
      ]
     },
     "execution_count": 10,
     "metadata": {},
     "output_type": "execute_result"
    }
   ],
   "source": [
    "df_movies['original_title'].head()"
   ]
  },
  {
   "cell_type": "code",
   "execution_count": 11,
   "id": "62ab66f6",
   "metadata": {
    "execution": {
     "iopub.execute_input": "2023-06-19T10:12:29.712630Z",
     "iopub.status.busy": "2023-06-19T10:12:29.711366Z",
     "iopub.status.idle": "2023-06-19T10:12:29.726895Z",
     "shell.execute_reply": "2023-06-19T10:12:29.725624Z"
    },
    "papermill": {
     "duration": 0.027305,
     "end_time": "2023-06-19T10:12:29.730122",
     "exception": false,
     "start_time": "2023-06-19T10:12:29.702817",
     "status": "completed"
    },
    "tags": []
   },
   "outputs": [
    {
     "data": {
      "text/plain": [
       "original_title\n",
       "Avatar                                      0\n",
       "Pirates of the Caribbean: At World's End    1\n",
       "Spectre                                     2\n",
       "The Dark Knight Rises                       3\n",
       "John Carter                                 4\n",
       "dtype: int64"
      ]
     },
     "execution_count": 11,
     "metadata": {},
     "output_type": "execute_result"
    }
   ],
   "source": [
    "indices = pd.Series(df_movies.index, index = df_movies['original_title']).drop_duplicates()\n",
    "indices.head()"
   ]
  },
  {
   "cell_type": "code",
   "execution_count": 12,
   "id": "a039d92e",
   "metadata": {
    "execution": {
     "iopub.execute_input": "2023-06-19T10:12:29.746252Z",
     "iopub.status.busy": "2023-06-19T10:12:29.745826Z",
     "iopub.status.idle": "2023-06-19T10:12:29.759644Z",
     "shell.execute_reply": "2023-06-19T10:12:29.758530Z"
    },
    "papermill": {
     "duration": 0.024944,
     "end_time": "2023-06-19T10:12:29.762280",
     "exception": false,
     "start_time": "2023-06-19T10:12:29.737336",
     "status": "completed"
    },
    "tags": []
   },
   "outputs": [
    {
     "data": {
      "text/plain": [
       "4"
      ]
     },
     "execution_count": 12,
     "metadata": {},
     "output_type": "execute_result"
    }
   ],
   "source": [
    "indices['John Carter']"
   ]
  },
  {
   "cell_type": "code",
   "execution_count": 13,
   "id": "3d767734",
   "metadata": {
    "execution": {
     "iopub.execute_input": "2023-06-19T10:12:29.779432Z",
     "iopub.status.busy": "2023-06-19T10:12:29.778482Z",
     "iopub.status.idle": "2023-06-19T10:12:29.785393Z",
     "shell.execute_reply": "2023-06-19T10:12:29.784119Z"
    },
    "papermill": {
     "duration": 0.01844,
     "end_time": "2023-06-19T10:12:29.788203",
     "exception": false,
     "start_time": "2023-06-19T10:12:29.769763",
     "status": "completed"
    },
    "tags": []
   },
   "outputs": [],
   "source": [
    "def get_recommendation(title, cosine_sim = cosine_sim):\n",
    "    indx = indices[title]\n",
    "    \n",
    "    sim_scores = enumerate(cosine_sim[indx])\n",
    "    sim_scores = sorted(sim_scores, key=lambda x:x[1], reverse=True)\n",
    "    sim_scores = sim_scores[1:11]\n",
    "    \n",
    "    sim_index = [i[0] for i in sim_scores]\n",
    "    print(df_movies[\"original_title\"].iloc[sim_index])\n",
    "    \n"
   ]
  },
  {
   "cell_type": "code",
   "execution_count": 14,
   "id": "3b25bc0d",
   "metadata": {
    "execution": {
     "iopub.execute_input": "2023-06-19T10:12:29.806622Z",
     "iopub.status.busy": "2023-06-19T10:12:29.805782Z",
     "iopub.status.idle": "2023-06-19T10:12:29.817504Z",
     "shell.execute_reply": "2023-06-19T10:12:29.815930Z"
    },
    "papermill": {
     "duration": 0.023567,
     "end_time": "2023-06-19T10:12:29.820257",
     "exception": false,
     "start_time": "2023-06-19T10:12:29.796690",
     "status": "completed"
    },
    "tags": []
   },
   "outputs": [
    {
     "name": "stdout",
     "output_type": "stream",
     "text": [
      "3604                       Apollo 18\n",
      "2130                    The American\n",
      "634                       The Matrix\n",
      "1341                Obitaemyy Ostrov\n",
      "529                 Tears of the Sun\n",
      "1610                           Hanna\n",
      "311     The Adventures of Pluto Nash\n",
      "847                         Semi-Pro\n",
      "775                        Supernova\n",
      "2628             Blood and Chocolate\n",
      "Name: original_title, dtype: object\n"
     ]
    }
   ],
   "source": [
    "get_recommendation('Avatar')"
   ]
  },
  {
   "cell_type": "code",
   "execution_count": 15,
   "id": "14b43a85",
   "metadata": {
    "execution": {
     "iopub.execute_input": "2023-06-19T10:12:29.837695Z",
     "iopub.status.busy": "2023-06-19T10:12:29.837296Z",
     "iopub.status.idle": "2023-06-19T10:12:29.850413Z",
     "shell.execute_reply": "2023-06-19T10:12:29.848755Z"
    },
    "papermill": {
     "duration": 0.025154,
     "end_time": "2023-06-19T10:12:29.853021",
     "exception": false,
     "start_time": "2023-06-19T10:12:29.827867",
     "status": "completed"
    },
    "tags": []
   },
   "outputs": [
    {
     "name": "stdout",
     "output_type": "stream",
     "text": [
      "1281                  Hackers\n",
      "2996                 Commando\n",
      "2088                    Pulse\n",
      "1341         Obitaemyy Ostrov\n",
      "333             Transcendence\n",
      "0                      Avatar\n",
      "261     Live Free or Die Hard\n",
      "775                 Supernova\n",
      "125       The Matrix Reloaded\n",
      "2614          The Love Letter\n",
      "Name: original_title, dtype: object\n"
     ]
    }
   ],
   "source": [
    "get_recommendation('The Matrix')"
   ]
  },
  {
   "cell_type": "code",
   "execution_count": null,
   "id": "5fd96e74",
   "metadata": {
    "papermill": {
     "duration": 0.007241,
     "end_time": "2023-06-19T10:12:29.867923",
     "exception": false,
     "start_time": "2023-06-19T10:12:29.860682",
     "status": "completed"
    },
    "tags": []
   },
   "outputs": [],
   "source": []
  }
 ],
 "metadata": {
  "kernelspec": {
   "display_name": "Python 3",
   "language": "python",
   "name": "python3"
  },
  "language_info": {
   "codemirror_mode": {
    "name": "ipython",
    "version": 3
   },
   "file_extension": ".py",
   "mimetype": "text/x-python",
   "name": "python",
   "nbconvert_exporter": "python",
   "pygments_lexer": "ipython3",
   "version": "3.10.10"
  },
  "papermill": {
   "default_parameters": {},
   "duration": 17.685043,
   "end_time": "2023-06-19T10:12:30.899139",
   "environment_variables": {},
   "exception": null,
   "input_path": "__notebook__.ipynb",
   "output_path": "__notebook__.ipynb",
   "parameters": {},
   "start_time": "2023-06-19T10:12:13.214096",
   "version": "2.4.0"
  }
 },
 "nbformat": 4,
 "nbformat_minor": 5
}
